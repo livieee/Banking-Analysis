{
 "cells": [
  {
   "cell_type": "code",
   "execution_count": 1,
   "metadata": {},
   "outputs": [],
   "source": [
    "import numpy as np\n",
    "import pandas as pd\n",
    "import math\n",
    "\n",
    "\n",
    "#Use to import the file into google Colab drive"
   ]
  },
  {
   "cell_type": "code",
   "execution_count": 2,
   "metadata": {},
   "outputs": [],
   "source": [
    "bond_df = pd.read_excel('Dataset.xlsx', sheet_name='Bond')\n",
    "mortgage_df = pd.read_excel('Dataset.xlsx', sheet_name = \"Mortgage\")\n",
    "retailloan_df = pd.read_excel('Dataset.xlsx', sheet_name = \"RetailLoan\")"
   ]
  },
  {
   "cell_type": "code",
   "execution_count": 3,
   "metadata": {},
   "outputs": [
    {
     "data": {
      "text/html": [
       "<div>\n",
       "<style scoped>\n",
       "    .dataframe tbody tr th:only-of-type {\n",
       "        vertical-align: middle;\n",
       "    }\n",
       "\n",
       "    .dataframe tbody tr th {\n",
       "        vertical-align: top;\n",
       "    }\n",
       "\n",
       "    .dataframe thead th {\n",
       "        text-align: right;\n",
       "    }\n",
       "</style>\n",
       "<table border=\"1\" class=\"dataframe\">\n",
       "  <thead>\n",
       "    <tr style=\"text-align: right;\">\n",
       "      <th></th>\n",
       "      <th>ID</th>\n",
       "      <th>OriginalAmount</th>\n",
       "      <th>TermYears</th>\n",
       "      <th>Collateral_valuation</th>\n",
       "      <th>CurrentInstallment</th>\n",
       "      <th>Rate</th>\n",
       "      <th>PD</th>\n",
       "      <th>LGD</th>\n",
       "    </tr>\n",
       "  </thead>\n",
       "  <tbody>\n",
       "    <tr>\n",
       "      <th>0</th>\n",
       "      <td>18101</td>\n",
       "      <td>2067863</td>\n",
       "      <td>35</td>\n",
       "      <td>678311</td>\n",
       "      <td>306</td>\n",
       "      <td>0.082</td>\n",
       "      <td>0.004728</td>\n",
       "      <td>0.497927</td>\n",
       "    </tr>\n",
       "    <tr>\n",
       "      <th>1</th>\n",
       "      <td>7835</td>\n",
       "      <td>309683</td>\n",
       "      <td>22</td>\n",
       "      <td>259913</td>\n",
       "      <td>166</td>\n",
       "      <td>0.117</td>\n",
       "      <td>0.176124</td>\n",
       "      <td>0.278921</td>\n",
       "    </tr>\n",
       "    <tr>\n",
       "      <th>2</th>\n",
       "      <td>26416</td>\n",
       "      <td>2998421</td>\n",
       "      <td>21</td>\n",
       "      <td>2218432</td>\n",
       "      <td>133</td>\n",
       "      <td>0.092</td>\n",
       "      <td>0.014447</td>\n",
       "      <td>0.570983</td>\n",
       "    </tr>\n",
       "    <tr>\n",
       "      <th>3</th>\n",
       "      <td>7304</td>\n",
       "      <td>483754</td>\n",
       "      <td>23</td>\n",
       "      <td>246967</td>\n",
       "      <td>152</td>\n",
       "      <td>0.032</td>\n",
       "      <td>0.168241</td>\n",
       "      <td>0.405557</td>\n",
       "    </tr>\n",
       "    <tr>\n",
       "      <th>4</th>\n",
       "      <td>14807</td>\n",
       "      <td>1808956</td>\n",
       "      <td>37</td>\n",
       "      <td>499590</td>\n",
       "      <td>93</td>\n",
       "      <td>0.114</td>\n",
       "      <td>0.006678</td>\n",
       "      <td>0.457563</td>\n",
       "    </tr>\n",
       "  </tbody>\n",
       "</table>\n",
       "</div>"
      ],
      "text/plain": [
       "      ID  OriginalAmount  TermYears  Collateral_valuation  CurrentInstallment  \\\n",
       "0  18101         2067863         35                678311                 306   \n",
       "1   7835          309683         22                259913                 166   \n",
       "2  26416         2998421         21               2218432                 133   \n",
       "3   7304          483754         23                246967                 152   \n",
       "4  14807         1808956         37                499590                  93   \n",
       "\n",
       "    Rate        PD       LGD  \n",
       "0  0.082  0.004728  0.497927  \n",
       "1  0.117  0.176124  0.278921  \n",
       "2  0.092  0.014447  0.570983  \n",
       "3  0.032  0.168241  0.405557  \n",
       "4  0.114  0.006678  0.457563  "
      ]
     },
     "execution_count": 3,
     "metadata": {},
     "output_type": "execute_result"
    }
   ],
   "source": [
    "bond_df.head()\n",
    "mortgage_df.head()"
   ]
  },
  {
   "cell_type": "code",
   "execution_count": 4,
   "metadata": {},
   "outputs": [
    {
     "name": "stderr",
     "output_type": "stream",
     "text": [
      "//anaconda3/lib/python3.7/site-packages/ipykernel_launcher.py:21: RuntimeWarning: divide by zero encountered in double_scalars\n",
      "//anaconda3/lib/python3.7/site-packages/ipykernel_launcher.py:26: RuntimeWarning: invalid value encountered in double_scalars\n"
     ]
    }
   ],
   "source": [
    "#Market rates = 1.42 on October 4th.\n",
    "# Parameters\n",
    "principal = bond_df.Principal/100 #Principal\n",
    "yearly_rate = bond_df.YearlyRate #Yearly Rate\n",
    "time_maturity = bond_df.Time2Maturity\n",
    "\n",
    "# Payment sequence\n",
    "current_coupon = bond_df.CurrentCoupon\n",
    "coupon_remain = bond_df.CouponsRemaining\n",
    "time_maturity = bond_df.Time2Maturity\n",
    "n = len(bond_df)\n",
    "\n",
    "coupon_rate = np.zeros(n)\n",
    "coupon = np.zeros(n)\n",
    "bond_price = np.zeros(n)\n",
    "number_coupon_year = np.zeros(n)\n",
    "bonds_held = bond_df.BondsHeld\n",
    "\n",
    "for i in range (n):\n",
    "    number_coupon_year[i] = coupon_remain[i]/time_maturity[i]\n",
    "    coupon_rate[i] = (yearly_rate[i]/100)/ number_coupon_year[i]\n",
    "    coupon[i] = coupon_rate[i] * principal[i]\n",
    "    #print(coupon[i])\n",
    "    #payment_series = np.zeros(coupon_remain[i])\n",
    "    payment_series = np.repeat(coupon[i], coupon_remain[i]+1)\n",
    "    payment_series[0] -= coupon[i]\n",
    "    payment_series[coupon_remain[i]] += principal[i]  # Last payment with principal\n",
    "    if 1 < time_maturity[i] <= 3:\n",
    "        r = 0.0148\n",
    "    if 3 < time_maturity[i] <= 5:\n",
    "        r = 0.0132\n",
    "    if 5 < time_maturity[i] <= 10:\n",
    "        r = 0.0128\n",
    "    if time_maturity[i] > 10:\n",
    "        r = 0.0144\n",
    "    bond_price[i] = np.npv(r, payment_series)\n"
   ]
  },
  {
   "cell_type": "code",
   "execution_count": 5,
   "metadata": {},
   "outputs": [
    {
     "data": {
      "text/plain": [
       "array([0.83647776, 0.8547267 , 0.50582462, ..., 0.5611738 , 0.84865866,\n",
       "       0.53285758])"
      ]
     },
     "execution_count": 5,
     "metadata": {},
     "output_type": "execute_result"
    }
   ],
   "source": [
    "bond_price"
   ]
  },
  {
   "cell_type": "code",
   "execution_count": 6,
   "metadata": {},
   "outputs": [],
   "source": [
    "#Part 1b Expected Loss\n",
    "#Calculate the total provision of bond: expected loss = PD*LGD*EAD\n",
    "#Senior claims on corporates, sovereigns and banks not secured by recognized collateral attract a 45% LGD.\n",
    "#All subordinated claims on corporates, sovereigns and banks attract a 75% LGD.\n",
    "bond_PD = bond_df.PD\n",
    "bond_EAD = np.zeros(n)\n",
    "bond_LGD = np.zeros(n)\n",
    "bond_provision = np.zeros(n)\n",
    "\n",
    "for i in range(n):\n",
    "    if bond_PD[i] < 0.36:\n",
    "        bond_LGD[i] =  0.45\n",
    "    else:\n",
    "        bond_LGD[i] = 0.75\n",
    "\n",
    "for i in range(n):\n",
    "    bond_EAD[i] = bond_price[i] * bonds_held[i]\n",
    "    if math.isnan(bond_EAD[i]):\n",
    "        bond_EAD[i] = 0\n",
    "    bond_provision[i] = bond_PD[i] * bond_LGD[i] * bond_EAD[i]\n",
    "\n",
    "    "
   ]
  },
  {
   "cell_type": "code",
   "execution_count": 7,
   "metadata": {},
   "outputs": [
    {
     "name": "stdout",
     "output_type": "stream",
     "text": [
      "4878586623.083627\n"
     ]
    }
   ],
   "source": [
    "print(np.sum(bond_provision))"
   ]
  },
  {
   "cell_type": "code",
   "execution_count": 8,
   "metadata": {},
   "outputs": [],
   "source": [
    "#1b\n",
    "#Calculate the total provision of mortgage: expected loss = PD*LGD*EAD\n",
    "mortgage_PD = mortgage_df.PD\n",
    "mortgage_LGD = mortgage_df.LGD\n",
    "\n",
    "#Find mortgage_EAD\n",
    "#Step 1: find m\n",
    "mortgage_yearly_rate = mortgage_df.Rate\n",
    "mortgage_times = mortgage_df.TermYears\n",
    "mortgage_orgamt = mortgage_df.OriginalAmount\n",
    "mortgage_rate = mortgage_yearly_rate/12\n",
    "collateral = mortgage_df.Collateral_valuation\n",
    "mortgage_len = len(mortgage_df)\n",
    "m = np.zeros(mortgage_len)\n",
    "mortgage_EAD = np.zeros(mortgage_len)\n",
    "mortgage_provision = np.zeros(mortgage_len)\n",
    "current_pricipal = np.zeros(mortgage_len)\n",
    "#Step 2: find latest principal\n",
    "for i in range(mortgage_len):\n",
    "    m[i] = np.pmt(mortgage_rate[i], mortgage_times[i], mortgage_orgamt[i])\n",
    "    current_pricipal[i] = np.fv(mortgage_rate[i], mortgage_times[i], m[i], -mortgage_orgamt[i])\n",
    "    mortgage_EAD[i] = current_pricipal[i] - collateral [i]\n",
    "    mortgage_provision[i] = mortgage_PD[i] * mortgage_LGD[i] * mortgage_EAD[i]"
   ]
  },
  {
   "cell_type": "code",
   "execution_count": 9,
   "metadata": {},
   "outputs": [
    {
     "name": "stdout",
     "output_type": "stream",
     "text": [
      "6450959903.849273\n"
     ]
    }
   ],
   "source": [
    "print(np.sum(mortgage_provision))"
   ]
  },
  {
   "cell_type": "code",
   "execution_count": 10,
   "metadata": {},
   "outputs": [],
   "source": [
    "#Part 1b\n",
    "#Calculate loan provision for retail loan\n",
    "retailloan_PD = retailloan_df.PD\n",
    "retailloan_LGD = 1 #Unsecured\n",
    "\n",
    "#Find retailloan_EAD\n",
    "#Step 1: find m\n",
    "retailloan_yearly_rate = retailloan_df.YearlyInterestRate\n",
    "retailloan_times = retailloan_df.Term\n",
    "retailloan_orgamt = retailloan_df.OriginalAmount\n",
    "retailloan_rate = mortgage_yearly_rate/12\n",
    "retailloan_len = len(retailloan_df)\n",
    "m2 = np.zeros(retailloan_len)\n",
    "retailloan_EAD = np.zeros(retailloan_len)\n",
    "retailloan_provision = np.zeros(retailloan_len)\n",
    "current_pricipal2 = np.zeros(retailloan_len)\n",
    "#Step 2: find latest principal\n",
    "for i in range(retailloan_len):\n",
    "    m2[i] = np.pmt(retailloan_rate[i], retailloan_times[i], retailloan_orgamt[i])\n",
    "    current_pricipal2[i] = np.fv(retailloan_rate[i], retailloan_times[i], m2[i], -retailloan_orgamt[i])\n",
    "    retailloan_EAD[i] = current_pricipal2[i]\n",
    "    retailloan_provision[i] = retailloan_PD[i] * retailloan_LGD * current_pricipal2[i]\n"
   ]
  },
  {
   "cell_type": "code",
   "execution_count": 11,
   "metadata": {},
   "outputs": [
    {
     "name": "stdout",
     "output_type": "stream",
     "text": [
      "110867480.10541177\n"
     ]
    }
   ],
   "source": [
    "print(np.sum(retailloan_provision))"
   ]
  },
  {
   "cell_type": "code",
   "execution_count": 12,
   "metadata": {},
   "outputs": [
    {
     "name": "stderr",
     "output_type": "stream",
     "text": [
      "//anaconda3/lib/python3.7/site-packages/ipykernel_launcher.py:30: RuntimeWarning: invalid value encountered in double_scalars\n",
      "//anaconda3/lib/python3.7/site-packages/ipykernel_launcher.py:20: RuntimeWarning: divide by zero encountered in double_scalars\n",
      "//anaconda3/lib/python3.7/site-packages/ipykernel_launcher.py:21: RuntimeWarning: divide by zero encountered in double_scalars\n",
      "//anaconda3/lib/python3.7/site-packages/ipykernel_launcher.py:24: RuntimeWarning: invalid value encountered in double_scalars\n",
      "//anaconda3/lib/python3.7/site-packages/ipykernel_launcher.py:19: RuntimeWarning: divide by zero encountered in log\n",
      "//anaconda3/lib/python3.7/site-packages/ipykernel_launcher.py:31: RuntimeWarning: invalid value encountered in double_scalars\n"
     ]
    }
   ],
   "source": [
    "#Part 1b\n",
    "#Capital Requirements of bond\n",
    "from scipy.stats import norm\n",
    "\n",
    "R_bond = np.zeros(n)\n",
    "K_bond = np.zeros(n)\n",
    "b = np.zeros(n)\n",
    "M = np.zeros(n)\n",
    "maturity_month = np.zeros(n)\n",
    "val1 = 0\n",
    "val2 = 0\n",
    "last_term = np.zeros(n)\n",
    "for i in range (n):\n",
    "    R_bond[i] =  0.12 * ( (1 - np.exp(-50 * bond_PD[i])) / (1 - np.exp(-50)) ) \n",
    "    R_bond[i] += 0.24 * (1 - ( (1 - np.exp(-50 * bond_PD[i])) / (1 - np.exp(-50)) ) )\n",
    "    K_bond[i] = norm.cdf(np.sqrt( (1 - R_bond[i]) ** (-1) ) * norm.ppf(bond_PD[i]) + \n",
    "               np.sqrt( R_bond[i] / (1 - R_bond[i])) * norm.ppf(0.999) ) - bond_PD[i]\n",
    "    K_bond[i] *= bond_LGD[i]\n",
    "    b[i] = (0.11852 - 0.05478*np.log(bond_PD[i]))**2\n",
    "    number_coupon_year[i] = 365/((365*time_maturity[i])/coupon_remain[i])\n",
    "    coupon_rate[i] = yearly_rate[i]/ number_coupon_year[i]\n",
    "    coupon[i] = coupon_rate[i] * principal[i]\n",
    "    payment_series = np.repeat(coupon[i], coupon_remain[i]+1)\n",
    "    payment_series[0] -= coupon[i]\n",
    "    payment_series[coupon_remain[i]] += principal[i]\n",
    "    #maturity_month[i] = np.floor(time_maturity[i] *12)\n",
    "    for j in range(coupon_remain[i]):\n",
    "        val1 += j*payment_series[j]\n",
    "        val2 += payment_series[j]\n",
    "        M[i] = val1/val2\n",
    "    last_term[i] = (1+(M[i]-2.5)*b[i])/(1-1.5*b[i])\n",
    "    K_bond[i] *= last_term[i]"
   ]
  },
  {
   "cell_type": "code",
   "execution_count": 13,
   "metadata": {},
   "outputs": [
    {
     "name": "stdout",
     "output_type": "stream",
     "text": [
      "[0.43849018 0.46023952 0.38681421 ... 0.39503463 0.4269955  0.36443615]\n"
     ]
    }
   ],
   "source": [
    "print(K_bond)"
   ]
  },
  {
   "cell_type": "code",
   "execution_count": 14,
   "metadata": {},
   "outputs": [],
   "source": [
    "#Part 1b Capital Requirements of mortgage\n",
    "K_mortgage = np.zeros(mortgage_len)\n",
    "for i in range (mortgage_len):\n",
    "    R_mortgage =  0.15\n",
    "    K_mortgage[i] = norm.cdf(np.sqrt( (1 - R_mortgage) ** (-1) ) * norm.ppf(mortgage_PD[i]) + \n",
    "                          np.sqrt( R_mortgage / (1 - R_mortgage) ) * norm.ppf(0.999) ) - mortgage_PD[i]\n",
    "    K_mortgage[i]*= mortgage_LGD[i]"
   ]
  },
  {
   "cell_type": "code",
   "execution_count": 15,
   "metadata": {},
   "outputs": [
    {
     "name": "stdout",
     "output_type": "stream",
     "text": [
      "3658.800797118064\n"
     ]
    }
   ],
   "source": [
    "print(np.sum(K_mortgage))"
   ]
  },
  {
   "cell_type": "code",
   "execution_count": 16,
   "metadata": {},
   "outputs": [],
   "source": [
    "#Part 1b Capital Requirements of retailoan\n",
    "K_retailloan = np.zeros(retailloan_len)\n",
    "R_retailloan = np.zeros(retailloan_len)\n",
    "for i in range (retailloan_len):\n",
    "    R_retailloan[i] =  0.03 * ( (1 - np.exp(-35 * retailloan_PD[i])) / (1 - np.exp(-35)) ) \n",
    "    R_retailloan[i] += 0.16 * (1 - ( (1 - np.exp(-35 * retailloan_PD[i])) / (1 - np.exp(-35)) ) )\n",
    "    K_retailloan[i] = norm.cdf(np.sqrt( (1 - R_retailloan[i]) ** (-1) ) * norm.ppf(retailloan_PD[i]) + \n",
    "                          np.sqrt( R_mortgage / (1 - R_retailloan[i]) ) * norm.ppf(0.999) ) - retailloan_PD[i]\n",
    "    K_retailloan[i] *= retailloan_LGD"
   ]
  },
  {
   "cell_type": "code",
   "execution_count": 17,
   "metadata": {},
   "outputs": [
    {
     "name": "stdout",
     "output_type": "stream",
     "text": [
      "5481.168601357005\n"
     ]
    }
   ],
   "source": [
    "print(np.sum(K_retailloan))"
   ]
  },
  {
   "cell_type": "code",
   "execution_count": 18,
   "metadata": {},
   "outputs": [
    {
     "name": "stdout",
     "output_type": "stream",
     "text": [
      "14444330147.809198\n"
     ]
    }
   ],
   "source": [
    "#Part1 c Risk weighted assets\n",
    "#Bond\n",
    "RW_bond = np.zeros(n)\n",
    "RWA_bond = 0\n",
    "for i in range(n):\n",
    "    if bond_PD[i] < 0.01:\n",
    "        RW_bond[i] = 0\n",
    "    if 0.01 < bond_PD[i] < 0.12:\n",
    "        RW_bond[i] = 0.2\n",
    "    if 0.12 < bond_PD[i] < 0.36:\n",
    "        RW_bond[i] = 0.5\n",
    "    if 0.36 < bond_PD[i] < 0.75:\n",
    "        RW_bond[i] = 1\n",
    "    if bond_PD[i] > 0.75:\n",
    "        RW_bond[i] = 1.5\n",
    "    RWA_bond += RW_bond[i] * bond_EAD[i]\n",
    "print(RWA_bond)"
   ]
  },
  {
   "cell_type": "code",
   "execution_count": 19,
   "metadata": {},
   "outputs": [
    {
     "name": "stdout",
     "output_type": "stream",
     "text": [
      "17863711919.030434\n"
     ]
    }
   ],
   "source": [
    "#Part1 c Risk weighted assets\n",
    "#Mortgage\n",
    "RWA_mortgage = 0\n",
    "for i in range(mortgage_len):\n",
    "    RW_mortgage = 0.35\n",
    "    RWA_mortgage += RW_mortgage * mortgage_EAD[i]\n",
    "print(RWA_mortgage)"
   ]
  },
  {
   "cell_type": "code",
   "execution_count": 20,
   "metadata": {},
   "outputs": [
    {
     "name": "stdout",
     "output_type": "stream",
     "text": [
      "332456509.37822986\n"
     ]
    }
   ],
   "source": [
    "#Part1 c Risk weighted assets\n",
    "#Mortgage\n",
    "RWA_loan = 0\n",
    "for i in range(retailloan_len):\n",
    "    RW_loan = 0.75\n",
    "    RWA_loan += RW_loan *  retailloan_EAD[i]\n",
    "print(RWA_loan)"
   ]
  },
  {
   "cell_type": "code",
   "execution_count": 21,
   "metadata": {},
   "outputs": [],
   "source": [
    "#Regulatory Capital \n",
    "regulatory_capital = 0.115* (RWA_bond+RWA_mortgage+RWA_loan)"
   ]
  },
  {
   "cell_type": "code",
   "execution_count": 22,
   "metadata": {},
   "outputs": [
    {
     "name": "stdout",
     "output_type": "stream",
     "text": [
      "3753657336.265054\n"
     ]
    }
   ],
   "source": [
    "print(regulatory_capital) "
   ]
  }
 ],
 "metadata": {
  "kernelspec": {
   "display_name": "Python 3",
   "language": "python",
   "name": "python3"
  },
  "language_info": {
   "codemirror_mode": {
    "name": "ipython",
    "version": 3
   },
   "file_extension": ".py",
   "mimetype": "text/x-python",
   "name": "python",
   "nbconvert_exporter": "python",
   "pygments_lexer": "ipython3",
   "version": "3.7.3"
  }
 },
 "nbformat": 4,
 "nbformat_minor": 2
}
